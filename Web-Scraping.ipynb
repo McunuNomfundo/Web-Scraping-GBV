{
 "cells": [
  {
   "cell_type": "markdown",
   "id": "interested-people",
   "metadata": {},
   "source": [
    "# STEP 1: PYTHON PACKAGES INSTALLATION"
   ]
  },
  {
   "cell_type": "code",
   "execution_count": 1,
   "id": "buried-priest",
   "metadata": {},
   "outputs": [
    {
     "name": "stdout",
     "output_type": "stream",
     "text": [
      "Requirement already satisfied: tweepy in c:\\users\\lenovo-user\\anaconda3\\envs\\py38\\lib\\site-packages (3.10.0)\n",
      "Requirement already satisfied: requests-oauthlib>=0.7.0 in c:\\users\\lenovo-user\\appdata\\roaming\\python\\python38\\site-packages (from tweepy) (1.3.0)\n",
      "Requirement already satisfied: six>=1.10.0 in c:\\users\\lenovo-user\\appdata\\roaming\\python\\python38\\site-packages (from tweepy) (1.15.0)\n",
      "Requirement already satisfied: requests[socks]>=2.11.1 in c:\\users\\lenovo-user\\appdata\\roaming\\python\\python38\\site-packages (from tweepy) (2.25.1)\n",
      "Requirement already satisfied: oauthlib>=3.0.0 in c:\\users\\lenovo-user\\appdata\\roaming\\python\\python38\\site-packages (from requests-oauthlib>=0.7.0->tweepy) (3.1.0)\n",
      "Requirement already satisfied: urllib3<1.27,>=1.21.1 in c:\\users\\lenovo-user\\appdata\\roaming\\python\\python38\\site-packages (from requests[socks]>=2.11.1->tweepy) (1.26.3)\n",
      "Requirement already satisfied: certifi>=2017.4.17 in c:\\users\\lenovo-user\\appdata\\roaming\\python\\python38\\site-packages (from requests[socks]>=2.11.1->tweepy) (2020.12.5)\n",
      "Requirement already satisfied: chardet<5,>=3.0.2 in c:\\users\\lenovo-user\\appdata\\roaming\\python\\python38\\site-packages (from requests[socks]>=2.11.1->tweepy) (4.0.0)\n",
      "Requirement already satisfied: idna<3,>=2.5 in c:\\users\\lenovo-user\\appdata\\roaming\\python\\python38\\site-packages (from requests[socks]>=2.11.1->tweepy) (2.10)\n",
      "Requirement already satisfied: PySocks!=1.5.7,>=1.5.6 in c:\\users\\lenovo-user\\anaconda3\\envs\\py38\\lib\\site-packages (from requests[socks]>=2.11.1->tweepy) (1.7.1)\n",
      "Requirement already satisfied: unidecode in c:\\users\\lenovo-user\\anaconda3\\envs\\py38\\lib\\site-packages (1.2.0)\n"
     ]
    }
   ],
   "source": [
    "!pip install tweepy\n",
    "!pip install unidecode"
   ]
  },
  {
   "cell_type": "markdown",
   "id": "secondary-norwegian",
   "metadata": {},
   "source": [
    "# STEP 2: IMPORT PACKAGES\n"
   ]
  },
  {
   "cell_type": "code",
   "execution_count": 2,
   "id": "applied-portsmouth",
   "metadata": {},
   "outputs": [],
   "source": [
    "#import dependencies\n",
    "import tweepy\n",
    "from tweepy import OAuthHandler\n",
    "from tweepy.streaming import StreamListener\n",
    "import json\n",
    "from unidecode import unidecode\n",
    "import time\n",
    "import datetime\n",
    "from tqdm import tqdm \n",
    "import pandas as pd  \n",
    "import numpy as np"
   ]
  },
  {
   "cell_type": "markdown",
   "id": "robust-ethnic",
   "metadata": {},
   "source": [
    "# STEP 3: AUTHENTICATING TO TWITTER'S API"
   ]
  },
  {
   "cell_type": "code",
   "execution_count": 3,
   "id": "bottom-beverage",
   "metadata": {},
   "outputs": [],
   "source": [
    "consumer_key = 'YOUR-CONSUMER-KEY'\n",
    "consumer_secret = 'YOUR-CONSUMER-SECRET'\n",
    "access_token = 'YOUR-ACCESS-TOKEN'\n",
    "access_secret = 'YOUR-ACCESS-SECRET'"
   ]
  },
  {
   "cell_type": "markdown",
   "id": "naval-fortune",
   "metadata": {},
   "source": [
    "# STEP 4: CONNECT TO TWITTER API USING THE SECRET KEY AND ACCESS TOKEN"
   ]
  },
  {
   "cell_type": "code",
   "execution_count": 4,
   "id": "lucky-gender",
   "metadata": {},
   "outputs": [],
   "source": [
    "auth = tweepy.OAuthHandler(consumer_key, consumer_secret)\n",
    "auth.set_access_token(access_token, access_secret)\n",
    "\n",
    "api = tweepy.API(auth)"
   ]
  },
  {
   "cell_type": "markdown",
   "id": "enabling-status",
   "metadata": {},
   "source": [
    "# STEP 5: DEFINE A FUNCTION THAT WILL TAKE OUR SEARCH QUERY"
   ]
  },
  {
   "cell_type": "code",
   "execution_count": 5,
   "id": "activated-handle",
   "metadata": {},
   "outputs": [],
   "source": [
    "def tweetSearch(query, limit):\n",
    "    \"\"\"\n",
    "    This function will search a query provided in the twitter and,\n",
    "    retun a list of all tweets that have a query. \n",
    "    \"\"\"\n",
    "\n",
    "    # Create a blank variable\n",
    "    tweets = []\n",
    "\n",
    "    # Iterate through Twitter using Tweepy to find our query with our defined limit\n",
    "    for page in tweepy.Cursor(\n",
    "        api.search, q=query, count=limit, tweet_mode=\"extended\"\n",
    "    ).pages(limit):\n",
    "        for tweet in page:\n",
    "            tweets.append(tweet)\n",
    "\n",
    "    # return tweets\n",
    "    return tweets"
   ]
  },
  {
   "cell_type": "markdown",
   "id": "loved-outline",
   "metadata": {},
   "source": [
    "# STEP 6: CREATE A FUNCTION TO SAVE TWEETS INTO A DATAFRAME"
   ]
  },
  {
   "cell_type": "code",
   "execution_count": 6,
   "id": "different-found",
   "metadata": {},
   "outputs": [],
   "source": [
    "\n",
    "def tweets_to_data_frame(tweets):\n",
    "    \"\"\"\n",
    "    This function will receive tweets and collect specific data from it such as place, tweet's text,likes \n",
    "    retweets and save them into a pandas data frame.\n",
    "    \n",
    "    This function will return a pandas data frame that contains data from twitter.\n",
    "    \"\"\"\n",
    "    df = pd.DataFrame(data=[tweet.full_text.encode('utf-8') for tweet in tweets], columns=[\"Tweets\"])\n",
    "\n",
    "    df[\"id\"] = np.array([tweet.id for tweet in tweets])\n",
    "    df[\"lens\"] = np.array([len(tweet.full_text) for tweet in tweets])\n",
    "    df[\"date\"] = np.array([tweet.created_at for tweet in tweets])\n",
    "    df[\"place\"] = np.array([tweet.place for tweet in tweets])\n",
    "    df[\"coordinateS\"] = np.array([tweet.coordinates for tweet in tweets])\n",
    "    df[\"lang\"] = np.array([tweet.lang for tweet in tweets])\n",
    "    df[\"source\"] = np.array([tweet.source for tweet in tweets])\n",
    "    df[\"likes\"] = np.array([tweet.favorite_count for tweet in tweets])\n",
    "    df[\"retweets\"] = np.array([tweet.retweet_count for tweet in tweets])\n",
    "\n",
    "    return df"
   ]
  },
  {
   "cell_type": "markdown",
   "id": "laughing-writer",
   "metadata": {},
   "source": [
    "# STEP 7: ADD TWITTER HASHTAGS RELATED TO GENDER-BASED VIOLENCE"
   ]
  },
  {
   "cell_type": "code",
   "execution_count": 7,
   "id": "endangered-princess",
   "metadata": {},
   "outputs": [],
   "source": [
    "hashtags = ['#GBV', '#sexism', '#rape']"
   ]
  },
  {
   "cell_type": "markdown",
   "id": "comic-weight",
   "metadata": {},
   "source": [
    "# STEP 8: RUN BOTH FUNCTIONS TO COLLECT DATA FROM TWITTER RELATED TO THE HASHTAGS LISTED ABOVE"
   ]
  },
  {
   "cell_type": "code",
   "execution_count": 8,
   "id": "strong-bridges",
   "metadata": {},
   "outputs": [
    {
     "name": "stderr",
     "output_type": "stream",
     "text": [
      "100%|████████████████████████████████████████████████████████████████████████████████████| 3/3 [04:29<00:00, 89.92s/it]\n"
     ]
    }
   ],
   "source": [
    "total_tweets = 0\n",
    "\n",
    "\"\"\"\n",
    "The following for loop will collect a tweets that have the hashtags\n",
    " mentioned in the list and save the tweets into csv file\n",
    "\"\"\"\n",
    "\n",
    "for n in tqdm(hashtags):\n",
    "    # first we fetch all tweets that have specific hashtag\n",
    "    hash_tweets = tweetSearch(query=n,limit=7000)\n",
    "    total_tweets += int(len(hash_tweets))\n",
    "    \n",
    "    # second we convert our tweets into datarame\n",
    "    df = tweets_to_data_frame(hash_tweets)\n",
    "    \n",
    "    #third we save the dataframe into csv file\n",
    "    df.to_csv(\"scraped_data.csv\".format(n))"
   ]
  },
  {
   "cell_type": "code",
   "execution_count": 9,
   "id": "tropical-permission",
   "metadata": {},
   "outputs": [
    {
     "data": {
      "text/html": [
       "<div>\n",
       "<style scoped>\n",
       "    .dataframe tbody tr th:only-of-type {\n",
       "        vertical-align: middle;\n",
       "    }\n",
       "\n",
       "    .dataframe tbody tr th {\n",
       "        vertical-align: top;\n",
       "    }\n",
       "\n",
       "    .dataframe thead th {\n",
       "        text-align: right;\n",
       "    }\n",
       "</style>\n",
       "<table border=\"1\" class=\"dataframe\">\n",
       "  <thead>\n",
       "    <tr style=\"text-align: right;\">\n",
       "      <th></th>\n",
       "      <th>Tweets</th>\n",
       "      <th>id</th>\n",
       "      <th>lens</th>\n",
       "      <th>date</th>\n",
       "      <th>place</th>\n",
       "      <th>coordinateS</th>\n",
       "      <th>lang</th>\n",
       "      <th>source</th>\n",
       "      <th>likes</th>\n",
       "      <th>retweets</th>\n",
       "    </tr>\n",
       "  </thead>\n",
       "  <tbody>\n",
       "    <tr>\n",
       "      <th>0</th>\n",
       "      <td>b'RT @eliasamare: This is exactly the arrogant...</td>\n",
       "      <td>1394745675418640386</td>\n",
       "      <td>148</td>\n",
       "      <td>2021-05-18 20:04:16</td>\n",
       "      <td>None</td>\n",
       "      <td>None</td>\n",
       "      <td>en</td>\n",
       "      <td>Twitter for Android</td>\n",
       "      <td>0</td>\n",
       "      <td>67</td>\n",
       "    </tr>\n",
       "    <tr>\n",
       "      <th>1</th>\n",
       "      <td>b\"@kushibo @DaniPayson Encouraging ANYONE in t...</td>\n",
       "      <td>1394744832317349888</td>\n",
       "      <td>332</td>\n",
       "      <td>2021-05-18 20:00:55</td>\n",
       "      <td>Place(_api=&lt;tweepy.api.API object at 0x000001E...</td>\n",
       "      <td>None</td>\n",
       "      <td>en</td>\n",
       "      <td>Twitter for Android</td>\n",
       "      <td>0</td>\n",
       "      <td>0</td>\n",
       "    </tr>\n",
       "    <tr>\n",
       "      <th>2</th>\n",
       "      <td>b'RT @PaulDereume: @jensdad4biden @QuippieChic...</td>\n",
       "      <td>1394744504377241601</td>\n",
       "      <td>140</td>\n",
       "      <td>2021-05-18 19:59:37</td>\n",
       "      <td>None</td>\n",
       "      <td>None</td>\n",
       "      <td>en</td>\n",
       "      <td>Twitter for iPhone</td>\n",
       "      <td>0</td>\n",
       "      <td>1</td>\n",
       "    </tr>\n",
       "    <tr>\n",
       "      <th>3</th>\n",
       "      <td>b'RT @BombshellDAILY: REPUBLICAN RAPED HIS CLI...</td>\n",
       "      <td>1394743634994638852</td>\n",
       "      <td>140</td>\n",
       "      <td>2021-05-18 19:56:10</td>\n",
       "      <td>None</td>\n",
       "      <td>None</td>\n",
       "      <td>en</td>\n",
       "      <td>Twitter for iPad</td>\n",
       "      <td>0</td>\n",
       "      <td>71</td>\n",
       "    </tr>\n",
       "    <tr>\n",
       "      <th>4</th>\n",
       "      <td>b'@jensdad4biden @QuippieChick @PrezLives2022 ...</td>\n",
       "      <td>1394742794304978944</td>\n",
       "      <td>508</td>\n",
       "      <td>2021-05-18 19:52:49</td>\n",
       "      <td>None</td>\n",
       "      <td>None</td>\n",
       "      <td>en</td>\n",
       "      <td>Twitter Web App</td>\n",
       "      <td>0</td>\n",
       "      <td>1</td>\n",
       "    </tr>\n",
       "    <tr>\n",
       "      <th>...</th>\n",
       "      <td>...</td>\n",
       "      <td>...</td>\n",
       "      <td>...</td>\n",
       "      <td>...</td>\n",
       "      <td>...</td>\n",
       "      <td>...</td>\n",
       "      <td>...</td>\n",
       "      <td>...</td>\n",
       "      <td>...</td>\n",
       "      <td>...</td>\n",
       "    </tr>\n",
       "    <tr>\n",
       "      <th>6220</th>\n",
       "      <td>b'RT @ZeeNewsCrime: \\xe0\\xa4\\x8f\\xe0\\xa4\\x95 \\...</td>\n",
       "      <td>1392032659493199874</td>\n",
       "      <td>140</td>\n",
       "      <td>2021-05-11 08:23:43</td>\n",
       "      <td>None</td>\n",
       "      <td>None</td>\n",
       "      <td>hi</td>\n",
       "      <td>Twitter for Android</td>\n",
       "      <td>0</td>\n",
       "      <td>10</td>\n",
       "    </tr>\n",
       "    <tr>\n",
       "      <th>6221</th>\n",
       "      <td>b'\\xc2\\xbfConoces las propiedades del rape? \\x...</td>\n",
       "      <td>1392032550084923393</td>\n",
       "      <td>236</td>\n",
       "      <td>2021-05-11 08:23:17</td>\n",
       "      <td>None</td>\n",
       "      <td>None</td>\n",
       "      <td>es</td>\n",
       "      <td>Twitter Web App</td>\n",
       "      <td>0</td>\n",
       "      <td>0</td>\n",
       "    </tr>\n",
       "    <tr>\n",
       "      <th>6222</th>\n",
       "      <td>b'RT @DograSonakshi: Kitni lasho aur khoon ko ...</td>\n",
       "      <td>1392032252037455876</td>\n",
       "      <td>140</td>\n",
       "      <td>2021-05-11 08:22:06</td>\n",
       "      <td>None</td>\n",
       "      <td>None</td>\n",
       "      <td>en</td>\n",
       "      <td>Twitter for Android</td>\n",
       "      <td>0</td>\n",
       "      <td>298</td>\n",
       "    </tr>\n",
       "    <tr>\n",
       "      <th>6223</th>\n",
       "      <td>b'RT @i_Aakashsingh: This is very heinous crim...</td>\n",
       "      <td>1392032187692634112</td>\n",
       "      <td>139</td>\n",
       "      <td>2021-05-11 08:21:50</td>\n",
       "      <td>None</td>\n",
       "      <td>None</td>\n",
       "      <td>en</td>\n",
       "      <td>Twitter for Android</td>\n",
       "      <td>0</td>\n",
       "      <td>3</td>\n",
       "    </tr>\n",
       "    <tr>\n",
       "      <th>6224</th>\n",
       "      <td>b\"@thesilentgirl6 @attorneygeneral I'm so sorr...</td>\n",
       "      <td>1392031747697692672</td>\n",
       "      <td>285</td>\n",
       "      <td>2021-05-11 08:20:06</td>\n",
       "      <td>None</td>\n",
       "      <td>None</td>\n",
       "      <td>en</td>\n",
       "      <td>Twitter for Android</td>\n",
       "      <td>1</td>\n",
       "      <td>0</td>\n",
       "    </tr>\n",
       "  </tbody>\n",
       "</table>\n",
       "<p>6225 rows × 10 columns</p>\n",
       "</div>"
      ],
      "text/plain": [
       "                                                 Tweets                   id  \\\n",
       "0     b'RT @eliasamare: This is exactly the arrogant...  1394745675418640386   \n",
       "1     b\"@kushibo @DaniPayson Encouraging ANYONE in t...  1394744832317349888   \n",
       "2     b'RT @PaulDereume: @jensdad4biden @QuippieChic...  1394744504377241601   \n",
       "3     b'RT @BombshellDAILY: REPUBLICAN RAPED HIS CLI...  1394743634994638852   \n",
       "4     b'@jensdad4biden @QuippieChick @PrezLives2022 ...  1394742794304978944   \n",
       "...                                                 ...                  ...   \n",
       "6220  b'RT @ZeeNewsCrime: \\xe0\\xa4\\x8f\\xe0\\xa4\\x95 \\...  1392032659493199874   \n",
       "6221  b'\\xc2\\xbfConoces las propiedades del rape? \\x...  1392032550084923393   \n",
       "6222  b'RT @DograSonakshi: Kitni lasho aur khoon ko ...  1392032252037455876   \n",
       "6223  b'RT @i_Aakashsingh: This is very heinous crim...  1392032187692634112   \n",
       "6224  b\"@thesilentgirl6 @attorneygeneral I'm so sorr...  1392031747697692672   \n",
       "\n",
       "      lens                date  \\\n",
       "0      148 2021-05-18 20:04:16   \n",
       "1      332 2021-05-18 20:00:55   \n",
       "2      140 2021-05-18 19:59:37   \n",
       "3      140 2021-05-18 19:56:10   \n",
       "4      508 2021-05-18 19:52:49   \n",
       "...    ...                 ...   \n",
       "6220   140 2021-05-11 08:23:43   \n",
       "6221   236 2021-05-11 08:23:17   \n",
       "6222   140 2021-05-11 08:22:06   \n",
       "6223   139 2021-05-11 08:21:50   \n",
       "6224   285 2021-05-11 08:20:06   \n",
       "\n",
       "                                                  place coordinateS lang  \\\n",
       "0                                                  None        None   en   \n",
       "1     Place(_api=<tweepy.api.API object at 0x000001E...        None   en   \n",
       "2                                                  None        None   en   \n",
       "3                                                  None        None   en   \n",
       "4                                                  None        None   en   \n",
       "...                                                 ...         ...  ...   \n",
       "6220                                               None        None   hi   \n",
       "6221                                               None        None   es   \n",
       "6222                                               None        None   en   \n",
       "6223                                               None        None   en   \n",
       "6224                                               None        None   en   \n",
       "\n",
       "                   source  likes  retweets  \n",
       "0     Twitter for Android      0        67  \n",
       "1     Twitter for Android      0         0  \n",
       "2      Twitter for iPhone      0         1  \n",
       "3        Twitter for iPad      0        71  \n",
       "4         Twitter Web App      0         1  \n",
       "...                   ...    ...       ...  \n",
       "6220  Twitter for Android      0        10  \n",
       "6221      Twitter Web App      0         0  \n",
       "6222  Twitter for Android      0       298  \n",
       "6223  Twitter for Android      0         3  \n",
       "6224  Twitter for Android      1         0  \n",
       "\n",
       "[6225 rows x 10 columns]"
      ]
     },
     "execution_count": 9,
     "metadata": {},
     "output_type": "execute_result"
    }
   ],
   "source": [
    "df"
   ]
  },
  {
   "cell_type": "markdown",
   "id": "sized-intermediate",
   "metadata": {},
   "source": [
    "df"
   ]
  },
  {
   "cell_type": "code",
   "execution_count": 10,
   "id": "facial-harrison",
   "metadata": {},
   "outputs": [
    {
     "name": "stdout",
     "output_type": "stream",
     "text": [
      "total_tweets: 9440\n"
     ]
    }
   ],
   "source": [
    "# show total number of tweets collected\n",
    "print(\"total_tweets: {}\".format(total_tweets))"
   ]
  }
 ],
 "metadata": {
  "kernelspec": {
   "display_name": "Python 3",
   "language": "python",
   "name": "python3"
  },
  "language_info": {
   "codemirror_mode": {
    "name": "ipython",
    "version": 3
   },
   "file_extension": ".py",
   "mimetype": "text/x-python",
   "name": "python",
   "nbconvert_exporter": "python",
   "pygments_lexer": "ipython3",
   "version": "3.8.5"
  }
 },
 "nbformat": 4,
 "nbformat_minor": 5
}
